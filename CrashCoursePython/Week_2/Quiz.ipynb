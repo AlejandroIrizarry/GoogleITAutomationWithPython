{
 "cells": [
  {
   "cell_type": "markdown",
   "metadata": {},
   "source": [
    "1. **Complete the function by filling in the missing parts. The color_translator function receives the name of a color, then prints its hexadecimal value. Currently, it only supports the three additive primary colors (red, green, blue), so it returns** _\"unknown\"_ **for all other colors.**"
   ]
  },
  {
   "cell_type": "code",
   "execution_count": 1,
   "metadata": {},
   "outputs": [
    {
     "name": "stdout",
     "output_type": "stream",
     "text": [
      "#0000ff\n",
      "unknown\n",
      "#ff0000\n",
      "unknown\n",
      "#00ff00\n",
      "unknown\n"
     ]
    }
   ],
   "source": [
    "def color_translator(color):\n",
    "\tif color == \"red\":\n",
    "\t\thex_color = \"#ff0000\"\n",
    "\telif color == \"green\":\n",
    "\t\thex_color = \"#00ff00\"\n",
    "\telif color == \"blue\":\n",
    "\t\thex_color = \"#0000ff\"\n",
    "\telse:\n",
    "\t\thex_color = \"unknown\"\n",
    "\treturn hex_color\n",
    "\n",
    "print(color_translator(\"blue\")) # Should be #0000ff\n",
    "print(color_translator(\"yellow\")) # Should be unknown\n",
    "print(color_translator(\"red\")) # Should be #ff0000\n",
    "print(color_translator(\"black\")) # Should be unknown\n",
    "print(color_translator(\"green\")) # Should be #00ff00\n",
    "print(color_translator(\"\")) # Should be unknown"
   ]
  },
  {
   "cell_type": "markdown",
   "metadata": {},
   "source": [
    "2. **Students in a class receive their grades as Pass/Fail. Scores of 60 or more (out of 100) mean that the grade is** _\"Pass\"_ **. For lower scores, the grade is** _\"Fail\"_. **In addition, scores above 95 (not included) are graded as** _\"Top Score\"_ **. Fill in this function so that it returns the proper grade.**"
   ]
  },
  {
   "cell_type": "code",
   "execution_count": 2,
   "metadata": {},
   "outputs": [
    {
     "name": "stdout",
     "output_type": "stream",
     "text": [
      "Pass\n",
      "Fail\n",
      "Pass\n",
      "Pass\n",
      "Top Score\n",
      "Fail\n"
     ]
    }
   ],
   "source": [
    "def exam_grade(score):\n",
    "\tif score > 95:\n",
    "\t\tgrade = \"Top Score\"\n",
    "\telif score >= 60:\n",
    "\t\tgrade = \"Pass\"\n",
    "\telse:\n",
    "\t\tgrade = \"Fail\"\n",
    "\treturn grade\n",
    "\n",
    "print(exam_grade(65)) # Should be Pass\n",
    "print(exam_grade(55)) # Should be Fail\n",
    "print(exam_grade(60)) # Should be Pass\n",
    "print(exam_grade(95)) # Should be Pass\n",
    "print(exam_grade(100)) # Should be Top Score\n",
    "print(exam_grade(0)) # Should be Fail"
   ]
  },
  {
   "cell_type": "markdown",
   "metadata": {},
   "source": [
    "3. **Complete the body of the** *format_name* **function. This function receives the** *first_name* **and** *last_name* **parameters and then returns a properly formatted string.**\n",
    "\n",
    "__Specifically:__\n",
    "\n",
    "* If both the last_name and the first_name parameters are supplied, the function should return like so:"
   ]
  },
  {
   "cell_type": "markdown",
   "metadata": {},
   "source": [
    "      print(format_name(\"Ella\", \"Fitzgerald\")) -> Name: Fitzgerald, Ella"
   ]
  },
  {
   "cell_type": "markdown",
   "metadata": {},
   "source": [
    "* If only one name parameter is supplied (either the first name or the last name) , the function should return like so:"
   ]
  },
  {
   "cell_type": "markdown",
   "metadata": {},
   "source": [
    "     print(format_name(\"Adele\", \"\")) -> Name: Adele"
   ]
  },
  {
   "cell_type": "markdown",
   "metadata": {},
   "source": [
    "          or"
   ]
  },
  {
   "cell_type": "markdown",
   "metadata": {},
   "source": [
    "    print(format_name(\"\", \"Einstein\")) --> Name: Einstein"
   ]
  },
  {
   "cell_type": "markdown",
   "metadata": {},
   "source": [
    "* Finally, if both names are blank, the function should return the empty string:"
   ]
  },
  {
   "cell_type": "markdown",
   "metadata": {},
   "source": [
    "    print(format_name(\"\", \"\"))"
   ]
  },
  {
   "cell_type": "markdown",
   "metadata": {},
   "source": [
    "Implement below:"
   ]
  },
  {
   "cell_type": "code",
   "execution_count": 3,
   "metadata": {},
   "outputs": [
    {
     "name": "stdout",
     "output_type": "stream",
     "text": [
      "Name: Hemingway, Ernest\n",
      "Name: Madonna\n",
      "Name: Voltaire\n",
      "\n"
     ]
    }
   ],
   "source": [
    "def format_name(first_name, last_name):\n",
    "\tif(len(first_name) > 0 and len(last_name) > 0):\n",
    "\t\tstring = \"Name: \" + last_name + \", \" + first_name\n",
    "\telif(len(first_name) > 0 and len(last_name) == 0):\n",
    "\t\tstring = \"Name: \" + first_name\n",
    "\telif(len(first_name) == 0 and len(last_name) > 0):\n",
    "\t\tstring = \"Name: \" + last_name\n",
    "\telse:\n",
    "\t\tstring = \"\"\n",
    "\n",
    "\treturn string\t \n",
    "\n",
    "\n",
    "print(format_name(\"Ernest\", \"Hemingway\"))\n",
    "# Should return the string \"Name: Hemingway, Ernest\"\n",
    "\n",
    "print(format_name(\"\", \"Madonna\"))\n",
    "# Should return the string \"Name: Madonna\"\n",
    "\n",
    "print(format_name(\"Voltaire\", \"\"))\n",
    "# Should return the string \"Name: Voltaire\"\n",
    "\n",
    "print(format_name(\"\", \"\"))\n",
    "# Should return an empty string"
   ]
  },
  {
   "cell_type": "markdown",
   "metadata": {},
   "source": [
    "4. **The longest_word function is used to compare 3 words. It should return the word with the most number of characters (and the first in the list when they have the same length). Fill in the blank to make this happen.**"
   ]
  },
  {
   "cell_type": "code",
   "execution_count": 4,
   "metadata": {},
   "outputs": [
    {
     "name": "stdout",
     "output_type": "stream",
     "text": [
      "chair\n",
      "beyond\n",
      "notebook\n"
     ]
    }
   ],
   "source": [
    "def longest_word(word1, word2, word3):\n",
    "\tif len(word1) >= len(word2) and len(word1) >= len(word3):\n",
    "\t\tword = word1\n",
    "\telif len(word2) >= len(word1) and len(word2) >= len(word3):\n",
    "\t\tword = word2\n",
    "\telse:\n",
    "\t\tword = word3\n",
    "\treturn(word)\n",
    "\n",
    "print(longest_word(\"chair\", \"couch\", \"table\"))\n",
    "print(longest_word(\"bed\", \"bath\", \"beyond\"))\n",
    "print(longest_word(\"laptop\", \"notebook\", \"desktop\"))"
   ]
  },
  {
   "cell_type": "markdown",
   "metadata": {},
   "source": [
    "5. **What’s the output of this code?**"
   ]
  },
  {
   "cell_type": "code",
   "execution_count": 5,
   "metadata": {},
   "outputs": [
    {
     "name": "stdout",
     "output_type": "stream",
     "text": [
      "10\n"
     ]
    }
   ],
   "source": [
    "def sum(x, y):\n",
    "\t\treturn(x+y)\n",
    "print(sum(sum(1,2), sum(3,4)))\n",
    "\n",
    "#Output is 10"
   ]
  },
  {
   "cell_type": "markdown",
   "metadata": {},
   "source": [
    "6. **The fractional_part function divides the numerator by the denominator, and returns just the fractional part (a number between 0 and 1). Complete the body of the function so that it returns the right number.**\n",
    "\n",
    "* _Note: Since division by 0 produces an error, if the denominator is 0, the function should return 0 instead of attempting the division._"
   ]
  },
  {
   "cell_type": "code",
   "execution_count": 6,
   "metadata": {},
   "outputs": [
    {
     "name": "stdout",
     "output_type": "stream",
     "text": [
      "0.0\n",
      "0.25\n",
      "0.6666666666666667\n",
      "0.5\n",
      "0\n",
      "0.0\n"
     ]
    }
   ],
   "source": [
    "def fractional_part(numerator, denominator):\n",
    "\tif(denominator != 0):\n",
    "\t\treturn (numerator/denominator)%1\n",
    "\treturn 0\n",
    "\n",
    "print(fractional_part(5, 5)) # Should be 0\n",
    "print(fractional_part(5, 4)) # Should be 0.25\n",
    "print(fractional_part(5, 3)) # Should be 0.66...\n",
    "print(fractional_part(5, 2)) # Should be 0.5\n",
    "print(fractional_part(5, 0)) # Should be 0\n",
    "print(fractional_part(0, 5)) # Should be 0"
   ]
  }
 ],
 "metadata": {
  "kernelspec": {
   "display_name": "Python 3.9.6 64-bit",
   "language": "python",
   "name": "python3"
  },
  "language_info": {
   "codemirror_mode": {
    "name": "ipython",
    "version": 3
   },
   "file_extension": ".py",
   "mimetype": "text/x-python",
   "name": "python",
   "nbconvert_exporter": "python",
   "pygments_lexer": "ipython3",
   "version": "3.9.6"
  },
  "orig_nbformat": 4,
  "vscode": {
   "interpreter": {
    "hash": "31f2aee4e71d21fbe5cf8b01ff0e069b9275f58929596ceb00d14d90e3e16cd6"
   }
  }
 },
 "nbformat": 4,
 "nbformat_minor": 2
}
