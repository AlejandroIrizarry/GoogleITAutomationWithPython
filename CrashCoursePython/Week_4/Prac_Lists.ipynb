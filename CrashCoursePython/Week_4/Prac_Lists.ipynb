{
 "cells": [
  {
   "cell_type": "markdown",
   "metadata": {},
   "source": [
    "1. **Given a list of filenames, we want to rename all the files with extension hpp to the extension h. To do this, we would like to generate a new list called newfilenames, consisting of the new filenames. Fill in the blanks in the code using any of the methods you’ve learned thus far, like a for loop or a list comprehension.**"
   ]
  },
  {
   "cell_type": "code",
   "execution_count": null,
   "metadata": {},
   "outputs": [],
   "source": [
    "filenames = [\"program.c\", \"stdio.hpp\", \"sample.hpp\", \"a.out\", \"math.hpp\", \"hpp.out\"]\n",
    "# Generate newfilenames as a list containing the new filenames\n",
    "# using as many lines of code as your chosen method requires.\n",
    "newfilenames = []\n",
    "for filename in filenames:\n",
    "    if(filename.endswith(\"hpp\")):\n",
    "        newfilenames.append(filename.replace(\"hpp\", \"h\"))\n",
    "    else:\n",
    "        newfilenames.append(filename)\n",
    "\n",
    "print(newfilenames) \n",
    "# Should be [\"program.c\", \"stdio.h\", \"sample.h\", \"a.out\", \"math.h\", \"hpp.out\"]"
   ]
  },
  {
   "cell_type": "markdown",
   "metadata": {},
   "source": [
    "2. **Let's create a function that turns text into pig latin: a simple text transformation that modifies each word moving the first character to the end and appending** _\"ay\"_ **to the end. For example,** _python_ **ends up as** _ythonpay_ **.**"
   ]
  },
  {
   "cell_type": "code",
   "execution_count": null,
   "metadata": {},
   "outputs": [],
   "source": [
    "def pig_latin(text):\n",
    "  say = []\n",
    "  # Separate the text into words\n",
    "  words = text.split()\n",
    "  for word in words:\n",
    "    # Create the pig latin word and add it to the list\n",
    "    word = say.append(word[1:] + word[0] + \"ay\")\n",
    "    # Turn the list back into a phrase\n",
    "  return ' '.join(say)\n",
    "\t\t\n",
    "print(pig_latin(\"hello how are you\")) # Should be \"ellohay owhay reaay ouyay\"\n",
    "print(pig_latin(\"programming in python is fun\")) # Should be \"rogrammingpay niay ythonpay siay unfay\""
   ]
  },
  {
   "cell_type": "markdown",
   "metadata": {},
   "source": [
    "3. **The permissions of a file in a Linux system are split into three sets of three permissions: read, write, and execute for the owner, group, and others. Each of the three values can be expressed as an octal number summing each permission, with** _4_ **corresponding to** _read_ **,** _2_ **to** _write_ **, and** _1_ **to** _execute_ **. Or it can be written with a string using the letters** _r_ **,** _w_ **, and** _x_ **or** *-* **when the permission is not granted.**\n",
    "\n",
    " For example: \n",
    "         640 is read/write for the owner, read for the group, and no permissions for the others; converted to a string, it would be: \"rw-r-----\"\n",
    "          755 is read/write/execute for the owner, and read/execute for group and others; converted to a string, it would be: \"rwxr-xr-x\"\n",
    " \n",
    " * _Fill in the blanks to make the code convert a permission in octal format into a string format._"
   ]
  },
  {
   "cell_type": "code",
   "execution_count": null,
   "metadata": {},
   "outputs": [],
   "source": [
    "def octal_to_string(octal):\n",
    "    result = \"\"\n",
    "    value_letters = [(4,\"r\"),(2,\"w\"),(1,\"x\")]\n",
    "    # Iterate over each of the digits in octal\n",
    "    for digit in [int(n) for n in str(octal)]:\n",
    "        # Check for each of the permissions values\n",
    "        for value, letter in value_letters:\n",
    "            if digit >= value:\n",
    "                result += letter\n",
    "                digit -= value\n",
    "            else:\n",
    "                result += \"-\"\n",
    "    return result\n",
    "    \n",
    "print(octal_to_string(755)) # Should be rwxr-xr-x\n",
    "print(octal_to_string(644)) # Should be rw-r--r--\n",
    "print(octal_to_string(750)) # Should be rwxr-x---\n",
    "print(octal_to_string(600)) # Should be rw-------"
   ]
  },
  {
   "cell_type": "markdown",
   "metadata": {},
   "source": [
    "4. **The group_list function accepts a group name and a list of members, and returns a string with the format:** *group_name: member1, member2, …* **For example,** *group_list(\"g\", [\"a\",\"b\",\"c\"])* **returns** *\"g: a, b, c\"* **. Fill in the gaps in this function to do that.**"
   ]
  },
  {
   "cell_type": "code",
   "execution_count": null,
   "metadata": {},
   "outputs": [],
   "source": [
    "def group_list(group, users):\n",
    "  members = group + \": \" + \", \".join(users)\n",
    "  return members\n",
    "\n",
    "print(group_list(\"Marketing\", [\"Mike\", \"Karen\", \"Jake\", \"Tasha\"])) # Should be \"Marketing: Mike, Karen, Jake, Tasha\"\n",
    "print(group_list(\"Engineering\", [\"Kim\", \"Jay\", \"Tom\"])) # Should be \"Engineering: Kim, Jay, Tom\"\n",
    "print(group_list(\"Users\", \"\")) # Should be \"Users:\""
   ]
  },
  {
   "cell_type": "markdown",
   "metadata": {},
   "source": [
    "5. **The** *guest_list* **function reads in a list of tuples with the name, age, and profession of each party guest, and prints the sentence** *\"Guest is X years old and works as __.\"* **for each one. For example,** *guest_list(('Ken', 30, \"Chef\"), (\"Pat\", 35, 'Lawyer'), ('Amanda', 25, \"Engineer\"))* **should print out:** *Ken is 30 years old and works as Chef. Pat is 35 years old and works as Lawyer. Amanda is 25 years old and works as Engineer.* \n",
    "\n",
    "* _Fill in the gaps in this function to do that._"
   ]
  },
  {
   "cell_type": "code",
   "execution_count": null,
   "metadata": {},
   "outputs": [],
   "source": [
    "def guest_list(guests):\n",
    "\tfor guest in guests:\n",
    "\t\tname, age, profession = guest\n",
    "\t\tprint(\"{} is {} years old and works as {}\".format(name, age, profession))\n",
    "\n",
    "guest_list([('Ken', 30, \"Chef\"), (\"Pat\", 35, 'Lawyer'), ('Amanda', 25, \"Engineer\")])\n",
    "\n",
    "#Click Run to submit code\n",
    "\"\"\"\n",
    "Output should match:\n",
    "Ken is 30 years old and works as Chef\n",
    "Pat is 35 years old and works as Lawyer\n",
    "Amanda is 25 years old and works as Engineer\n",
    "\"\"\""
   ]
  }
 ],
 "metadata": {
  "kernelspec": {
   "display_name": "Python 3.9.6 64-bit",
   "language": "python",
   "name": "python3"
  },
  "language_info": {
   "name": "python",
   "version": "3.9.6"
  },
  "orig_nbformat": 4,
  "vscode": {
   "interpreter": {
    "hash": "31f2aee4e71d21fbe5cf8b01ff0e069b9275f58929596ceb00d14d90e3e16cd6"
   }
  }
 },
 "nbformat": 4,
 "nbformat_minor": 2
}
